{
 "cells": [
  {
   "cell_type": "code",
   "execution_count": 1,
   "metadata": {},
   "outputs": [],
   "source": [
    "import os\n",
    "import sys\n",
    "import pandas as pd\n",
    "\n",
    "path = \"../../TwitterEgo/twitter/\""
   ]
  },
  {
   "cell_type": "code",
   "execution_count": 2,
   "metadata": {},
   "outputs": [],
   "source": [
    "circles = []\n",
    "for file in os.listdir(path):\n",
    "    if file.endswith(\".circles\"):\n",
    "        circles.append(file.split('.')[0])"
   ]
  },
  {
   "cell_type": "code",
   "execution_count": 3,
   "metadata": {},
   "outputs": [],
   "source": [
    "circles_dict = {}"
   ]
  },
  {
   "cell_type": "code",
   "execution_count": 4,
   "metadata": {},
   "outputs": [],
   "source": [
    "def generate_dict_users(user):\n",
    "    circle_ids = []\n",
    "    node_ids = []\n",
    "    node_lists = []\n",
    "    dict_circles = {}\n",
    "    with open(path+user+'.circles', \"r\") as fh:\n",
    "        train_lines = fh.readlines() \n",
    "    for line in train_lines:\n",
    "        splitline = line.split('\\t')\n",
    "        circle_ids.append(splitline[0])\n",
    "        node_ids.append(splitline[1:])    \n",
    "    for i in range(len(node_ids)):\n",
    "        node_lists.append([])\n",
    "        for j in range(len(node_ids[i])):\n",
    "            if not node_ids[i][j].endswith('\\n'):\n",
    "                node_lists[i].append(node_ids[i][j])\n",
    "            else:\n",
    "                node_lists[i].append(node_ids[i][j].split('\\n')[0])\n",
    "    j = 0\n",
    "    for i in circle_ids:\n",
    "        if i not in dict_circles.keys():\n",
    "            dict_circles[i] = node_lists[int(j)]\n",
    "            j+=1\n",
    "    if user not in circles_dict.keys():\n",
    "        circles_dict[user] = dict_circles"
   ]
  },
  {
   "cell_type": "code",
   "execution_count": 5,
   "metadata": {},
   "outputs": [],
   "source": [
    "for i in range(len(circles)):\n",
    "    generate_dict_users(str(circles[i]))"
   ]
  },
  {
   "cell_type": "code",
   "execution_count": 6,
   "metadata": {},
   "outputs": [],
   "source": [
    "nodes_dict = {}\n",
    "for i in circles_dict:    \n",
    "    if len(circles_dict[i]) > 2 and len(circles_dict[i]) < 5:\n",
    "        if i not in nodes_dict:\n",
    "            nodes_dict[i] = circles_dict[i]"
   ]
  },
  {
   "cell_type": "code",
   "execution_count": 7,
   "metadata": {},
   "outputs": [
    {
     "data": {
      "text/plain": [
       "270"
      ]
     },
     "execution_count": 7,
     "metadata": {},
     "output_type": "execute_result"
    }
   ],
   "source": [
    "len(nodes_dict)"
   ]
  },
  {
   "cell_type": "code",
   "execution_count": 8,
   "metadata": {},
   "outputs": [],
   "source": [
    "count = 0\n",
    "d = []\n",
    "for i in nodes_dict:\n",
    "    for j in nodes_dict[i]:\n",
    "        for k in nodes_dict[i][j]:\n",
    "            l = [i,k,j]\n",
    "            d.append(l)\n",
    "            count += 1"
   ]
  },
  {
   "cell_type": "code",
   "execution_count": 9,
   "metadata": {},
   "outputs": [
    {
     "data": {
      "text/plain": [
       "11422"
      ]
     },
     "execution_count": 9,
     "metadata": {},
     "output_type": "execute_result"
    }
   ],
   "source": [
    "count"
   ]
  },
  {
   "cell_type": "code",
   "execution_count": 10,
   "metadata": {},
   "outputs": [],
   "source": [
    "df = pd.DataFrame(d,columns = ['nodeID','friendID','circle'])"
   ]
  },
  {
   "cell_type": "code",
   "execution_count": 11,
   "metadata": {},
   "outputs": [
    {
     "data": {
      "text/plain": [
       "0        37103386\n",
       "1        37103386\n",
       "2        37103386\n",
       "3        37103386\n",
       "4        37103386\n",
       "           ...   \n",
       "11417    65185224\n",
       "11418    65185224\n",
       "11419    65185224\n",
       "11420    65185224\n",
       "11421    65185224\n",
       "Name: nodeID, Length: 11422, dtype: object"
      ]
     },
     "execution_count": 11,
     "metadata": {},
     "output_type": "execute_result"
    }
   ],
   "source": [
    "df['nodeID']"
   ]
  },
  {
   "cell_type": "code",
   "execution_count": 12,
   "metadata": {},
   "outputs": [],
   "source": [
    "fId = list(set(df['friendID']))\n",
    "nId = list(set(df['nodeID']))"
   ]
  },
  {
   "cell_type": "code",
   "execution_count": 14,
   "metadata": {},
   "outputs": [],
   "source": [
    "df.to_csv('../../TwitterEgo/data/circles.csv', index = False)"
   ]
  },
  {
   "cell_type": "code",
   "execution_count": null,
   "metadata": {},
   "outputs": [],
   "source": []
  }
 ],
 "metadata": {
  "kernelspec": {
   "display_name": "Python 3",
   "language": "python",
   "name": "python3"
  },
  "language_info": {
   "codemirror_mode": {
    "name": "ipython",
    "version": 3
   },
   "file_extension": ".py",
   "mimetype": "text/x-python",
   "name": "python",
   "nbconvert_exporter": "python",
   "pygments_lexer": "ipython3",
   "version": "3.7.5"
  }
 },
 "nbformat": 4,
 "nbformat_minor": 2
}
